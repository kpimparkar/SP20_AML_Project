{
 "cells": [
  {
   "cell_type": "markdown",
   "metadata": {},
   "source": [
    "# Home Credit Default Risk (HCDR) Keras Starter"
   ]
  },
  {
   "cell_type": "markdown",
   "metadata": {},
   "source": [
    "This notebook should help you with a simple Deep Neural Network model in Keras for the HCDR Final Project.\n",
    "You can use the simple model below after you modify it use your data.\n",
    "There are quite a few hyperparameters to play with, and it may get too time consuming to run thru complex GridSearch, so it may be a good idea to simplify that proces to an arbitrary architecture, and default parameters\n"
   ]
  },
  {
   "cell_type": "code",
   "execution_count": null,
   "metadata": {},
   "outputs": [],
   "source": [
    "# ...  You will have to set up your data from HCDR project ..."
   ]
  },
  {
   "cell_type": "markdown",
   "metadata": {},
   "source": [
    "# Keras DNN Example"
   ]
  },
  {
   "cell_type": "markdown",
   "metadata": {},
   "source": [
    "## Keras Model 31-8-32-16"
   ]
  },
  {
   "cell_type": "code",
   "execution_count": 1,
   "metadata": {},
   "outputs": [
    {
     "name": "stderr",
     "output_type": "stream",
     "text": [
      "Using TensorFlow backend.\n",
      "/usr/local/lib/python3.7/site-packages/tensorflow/python/framework/dtypes.py:516: FutureWarning: Passing (type, 1) or '1type' as a synonym of type is deprecated; in a future version of numpy, it will be understood as (type, (1,)) / '(1,)type'.\n",
      "  _np_qint8 = np.dtype([(\"qint8\", np.int8, 1)])\n",
      "/usr/local/lib/python3.7/site-packages/tensorflow/python/framework/dtypes.py:517: FutureWarning: Passing (type, 1) or '1type' as a synonym of type is deprecated; in a future version of numpy, it will be understood as (type, (1,)) / '(1,)type'.\n",
      "  _np_quint8 = np.dtype([(\"quint8\", np.uint8, 1)])\n",
      "/usr/local/lib/python3.7/site-packages/tensorflow/python/framework/dtypes.py:518: FutureWarning: Passing (type, 1) or '1type' as a synonym of type is deprecated; in a future version of numpy, it will be understood as (type, (1,)) / '(1,)type'.\n",
      "  _np_qint16 = np.dtype([(\"qint16\", np.int16, 1)])\n",
      "/usr/local/lib/python3.7/site-packages/tensorflow/python/framework/dtypes.py:519: FutureWarning: Passing (type, 1) or '1type' as a synonym of type is deprecated; in a future version of numpy, it will be understood as (type, (1,)) / '(1,)type'.\n",
      "  _np_quint16 = np.dtype([(\"quint16\", np.uint16, 1)])\n",
      "/usr/local/lib/python3.7/site-packages/tensorflow/python/framework/dtypes.py:520: FutureWarning: Passing (type, 1) or '1type' as a synonym of type is deprecated; in a future version of numpy, it will be understood as (type, (1,)) / '(1,)type'.\n",
      "  _np_qint32 = np.dtype([(\"qint32\", np.int32, 1)])\n",
      "/usr/local/lib/python3.7/site-packages/tensorflow/python/framework/dtypes.py:525: FutureWarning: Passing (type, 1) or '1type' as a synonym of type is deprecated; in a future version of numpy, it will be understood as (type, (1,)) / '(1,)type'.\n",
      "  np_resource = np.dtype([(\"resource\", np.ubyte, 1)])\n",
      "/usr/local/lib/python3.7/site-packages/tensorboard/compat/tensorflow_stub/dtypes.py:541: FutureWarning: Passing (type, 1) or '1type' as a synonym of type is deprecated; in a future version of numpy, it will be understood as (type, (1,)) / '(1,)type'.\n",
      "  _np_qint8 = np.dtype([(\"qint8\", np.int8, 1)])\n",
      "/usr/local/lib/python3.7/site-packages/tensorboard/compat/tensorflow_stub/dtypes.py:542: FutureWarning: Passing (type, 1) or '1type' as a synonym of type is deprecated; in a future version of numpy, it will be understood as (type, (1,)) / '(1,)type'.\n",
      "  _np_quint8 = np.dtype([(\"quint8\", np.uint8, 1)])\n",
      "/usr/local/lib/python3.7/site-packages/tensorboard/compat/tensorflow_stub/dtypes.py:543: FutureWarning: Passing (type, 1) or '1type' as a synonym of type is deprecated; in a future version of numpy, it will be understood as (type, (1,)) / '(1,)type'.\n",
      "  _np_qint16 = np.dtype([(\"qint16\", np.int16, 1)])\n",
      "/usr/local/lib/python3.7/site-packages/tensorboard/compat/tensorflow_stub/dtypes.py:544: FutureWarning: Passing (type, 1) or '1type' as a synonym of type is deprecated; in a future version of numpy, it will be understood as (type, (1,)) / '(1,)type'.\n",
      "  _np_quint16 = np.dtype([(\"quint16\", np.uint16, 1)])\n",
      "/usr/local/lib/python3.7/site-packages/tensorboard/compat/tensorflow_stub/dtypes.py:545: FutureWarning: Passing (type, 1) or '1type' as a synonym of type is deprecated; in a future version of numpy, it will be understood as (type, (1,)) / '(1,)type'.\n",
      "  _np_qint32 = np.dtype([(\"qint32\", np.int32, 1)])\n",
      "/usr/local/lib/python3.7/site-packages/tensorboard/compat/tensorflow_stub/dtypes.py:550: FutureWarning: Passing (type, 1) or '1type' as a synonym of type is deprecated; in a future version of numpy, it will be understood as (type, (1,)) / '(1,)type'.\n",
      "  np_resource = np.dtype([(\"resource\", np.ubyte, 1)])\n"
     ]
    }
   ],
   "source": [
    "import time\n",
    "\n",
    "import numpy as np \n",
    "import pandas as pd\n",
    "\n",
    "from sklearn.metrics import accuracy_score, confusion_matrix, classification_report\n",
    "from sklearn.neighbors import KNeighborsClassifier\n",
    "from sklearn.model_selection import GridSearchCV\n",
    "from sklearn.model_selection import train_test_split\n",
    "\n",
    "from keras.utils.vis_utils import model_to_dot\n",
    "from keras.layers import Dense, Dropout\n",
    "from keras.models import Model, Sequential\n",
    "from keras.wrappers.scikit_learn import KerasRegressor\n",
    "from keras.wrappers.scikit_learn import KerasClassifier  \n",
    "\n",
    "import matplotlib\n",
    "import matplotlib.pyplot as plt\n",
    "import seaborn as sns\n",
    "\n",
    "%matplotlib inline\n",
    "\n",
    "from IPython.display import SVG"
   ]
  },
  {
   "cell_type": "code",
   "execution_count": 2,
   "metadata": {},
   "outputs": [],
   "source": [
    "def create_model(optimizer='adagrad',\n",
    "                 kernel_initializer='glorot_uniform', \n",
    "                 dropout=0.2):\n",
    "    \n",
    "    model = Sequential()\n",
    "\n",
    "    # You will need to adjust that input_dim parameter for your own data\n",
    "    model.add(Dense(8, input_dim=31, activation='relu'))\n",
    "    model.add(Dropout(dropout))\n",
    "    model.add(Dense(32, activation='relu'))\n",
    "    model.add(Dropout(dropout))\n",
    "    model.add(Dense(16, activation='relu'))\n",
    "    model.add(Dropout(dropout))\n",
    "    model.add(Dense(1, activation='sigmoid'))\n",
    "\n",
    "    model.compile(loss='binary_crossentropy',optimizer=optimizer, metrics=['accuracy'])\n",
    "\n",
    "    return model\n",
    "\n",
    "\n",
    "model = Sequential()\n"
   ]
  },
  {
   "cell_type": "code",
   "execution_count": 3,
   "metadata": {},
   "outputs": [
    {
     "name": "stdout",
     "output_type": "stream",
     "text": [
      "WARNING:tensorflow:From /usr/local/lib/python3.7/site-packages/tensorflow/python/ops/nn_impl.py:180: add_dispatch_support.<locals>.wrapper (from tensorflow.python.ops.array_ops) is deprecated and will be removed in a future version.\n",
      "Instructions for updating:\n",
      "Use tf.where in 2.0, which has the same broadcast rule as np.where\n",
      "Model: \"sequential_2\"\n",
      "_________________________________________________________________\n",
      "Layer (type)                 Output Shape              Param #   \n",
      "=================================================================\n",
      "dense_1 (Dense)              (None, 8)                 256       \n",
      "_________________________________________________________________\n",
      "dropout_1 (Dropout)          (None, 8)                 0         \n",
      "_________________________________________________________________\n",
      "dense_2 (Dense)              (None, 32)                288       \n",
      "_________________________________________________________________\n",
      "dropout_2 (Dropout)          (None, 32)                0         \n",
      "_________________________________________________________________\n",
      "dense_3 (Dense)              (None, 16)                528       \n",
      "_________________________________________________________________\n",
      "dropout_3 (Dropout)          (None, 16)                0         \n",
      "_________________________________________________________________\n",
      "dense_4 (Dense)              (None, 1)                 17        \n",
      "=================================================================\n",
      "Total params: 1,089\n",
      "Trainable params: 1,089\n",
      "Non-trainable params: 0\n",
      "_________________________________________________________________\n"
     ]
    }
   ],
   "source": [
    "model = create_model()\n",
    "model.summary()"
   ]
  },
  {
   "cell_type": "code",
   "execution_count": 4,
   "metadata": {},
   "outputs": [
    {
     "data": {
      "image/svg+xml": [
       "<svg height=\"886pt\" viewBox=\"0.00 0.00 307.55 664.80\" width=\"410pt\" xmlns=\"http://www.w3.org/2000/svg\" xmlns:xlink=\"http://www.w3.org/1999/xlink\">\n",
       "<g class=\"graph\" id=\"graph0\" transform=\"scale(1.3333 1.3333) rotate(0) translate(4 660.8)\">\n",
       "<title>G</title>\n",
       "<polygon fill=\"#ffffff\" points=\"-4,4 -4,-660.8 303.5534,-660.8 303.5534,4 -4,4\" stroke=\"transparent\"/>\n",
       "<!-- 139861384940752 -->\n",
       "<g class=\"node\" id=\"node1\">\n",
       "<title>139861384940752</title>\n",
       "<polygon fill=\"none\" points=\"0,-606.7 0,-656.3 299.5534,-656.3 299.5534,-606.7 0,-606.7\" stroke=\"#000000\"/>\n",
       "<text fill=\"#000000\" font-family=\"Times,serif\" font-size=\"14.00\" text-anchor=\"middle\" x=\"83.6196\" y=\"-627.3\">dense_1_input: InputLayer</text>\n",
       "<polyline fill=\"none\" points=\"167.2392,-606.7 167.2392,-656.3 \" stroke=\"#000000\"/>\n",
       "<text fill=\"#000000\" font-family=\"Times,serif\" font-size=\"14.00\" text-anchor=\"middle\" x=\"195.0751\" y=\"-639.7\">input:</text>\n",
       "<polyline fill=\"none\" points=\"167.2392,-631.5 222.911,-631.5 \" stroke=\"#000000\"/>\n",
       "<text fill=\"#000000\" font-family=\"Times,serif\" font-size=\"14.00\" text-anchor=\"middle\" x=\"195.0751\" y=\"-614.9\">output:</text>\n",
       "<polyline fill=\"none\" points=\"222.911,-606.7 222.911,-656.3 \" stroke=\"#000000\"/>\n",
       "<text fill=\"#000000\" font-family=\"Times,serif\" font-size=\"14.00\" text-anchor=\"middle\" x=\"261.2322\" y=\"-639.7\">(None, 31)</text>\n",
       "<polyline fill=\"none\" points=\"222.911,-631.5 299.5534,-631.5 \" stroke=\"#000000\"/>\n",
       "<text fill=\"#000000\" font-family=\"Times,serif\" font-size=\"14.00\" text-anchor=\"middle\" x=\"261.2322\" y=\"-614.9\">(None, 31)</text>\n",
       "</g>\n",
       "<!-- 139861381664272 -->\n",
       "<g class=\"node\" id=\"node2\">\n",
       "<title>139861381664272</title>\n",
       "<polygon fill=\"none\" points=\"31.4972,-520.1 31.4972,-569.7 268.0562,-569.7 268.0562,-520.1 31.4972,-520.1\" stroke=\"#000000\"/>\n",
       "<text fill=\"#000000\" font-family=\"Times,serif\" font-size=\"14.00\" text-anchor=\"middle\" x=\"83.6196\" y=\"-540.7\">dense_1: Dense</text>\n",
       "<polyline fill=\"none\" points=\"135.742,-520.1 135.742,-569.7 \" stroke=\"#000000\"/>\n",
       "<text fill=\"#000000\" font-family=\"Times,serif\" font-size=\"14.00\" text-anchor=\"middle\" x=\"163.5779\" y=\"-553.1\">input:</text>\n",
       "<polyline fill=\"none\" points=\"135.742,-544.9 191.4138,-544.9 \" stroke=\"#000000\"/>\n",
       "<text fill=\"#000000\" font-family=\"Times,serif\" font-size=\"14.00\" text-anchor=\"middle\" x=\"163.5779\" y=\"-528.3\">output:</text>\n",
       "<polyline fill=\"none\" points=\"191.4138,-520.1 191.4138,-569.7 \" stroke=\"#000000\"/>\n",
       "<text fill=\"#000000\" font-family=\"Times,serif\" font-size=\"14.00\" text-anchor=\"middle\" x=\"229.735\" y=\"-553.1\">(None, 31)</text>\n",
       "<polyline fill=\"none\" points=\"191.4138,-544.9 268.0562,-544.9 \" stroke=\"#000000\"/>\n",
       "<text fill=\"#000000\" font-family=\"Times,serif\" font-size=\"14.00\" text-anchor=\"middle\" x=\"229.235\" y=\"-528.3\">(None, 8)</text>\n",
       "</g>\n",
       "<!-- 139861384940752&#45;&gt;139861381664272 -->\n",
       "<g class=\"edge\" id=\"edge1\">\n",
       "<title>139861384940752-&gt;139861381664272</title>\n",
       "<path d=\"M149.7767,-606.4517C149.7767,-598.1937 149.7767,-588.8517 149.7767,-579.9864\" fill=\"none\" stroke=\"#000000\"/>\n",
       "<polygon fill=\"#000000\" points=\"153.2768,-579.892 149.7767,-569.892 146.2768,-579.892 153.2768,-579.892\" stroke=\"#000000\"/>\n",
       "</g>\n",
       "<!-- 139861383239184 -->\n",
       "<g class=\"node\" id=\"node3\">\n",
       "<title>139861383239184</title>\n",
       "<polygon fill=\"none\" points=\"23.3198,-433.5 23.3198,-483.1 276.2336,-483.1 276.2336,-433.5 23.3198,-433.5\" stroke=\"#000000\"/>\n",
       "<text fill=\"#000000\" font-family=\"Times,serif\" font-size=\"14.00\" text-anchor=\"middle\" x=\"87.1196\" y=\"-454.1\">dropout_1: Dropout</text>\n",
       "<polyline fill=\"none\" points=\"150.9194,-433.5 150.9194,-483.1 \" stroke=\"#000000\"/>\n",
       "<text fill=\"#000000\" font-family=\"Times,serif\" font-size=\"14.00\" text-anchor=\"middle\" x=\"178.7553\" y=\"-466.5\">input:</text>\n",
       "<polyline fill=\"none\" points=\"150.9194,-458.3 206.5912,-458.3 \" stroke=\"#000000\"/>\n",
       "<text fill=\"#000000\" font-family=\"Times,serif\" font-size=\"14.00\" text-anchor=\"middle\" x=\"178.7553\" y=\"-441.7\">output:</text>\n",
       "<polyline fill=\"none\" points=\"206.5912,-433.5 206.5912,-483.1 \" stroke=\"#000000\"/>\n",
       "<text fill=\"#000000\" font-family=\"Times,serif\" font-size=\"14.00\" text-anchor=\"middle\" x=\"241.4124\" y=\"-466.5\">(None, 8)</text>\n",
       "<polyline fill=\"none\" points=\"206.5912,-458.3 276.2336,-458.3 \" stroke=\"#000000\"/>\n",
       "<text fill=\"#000000\" font-family=\"Times,serif\" font-size=\"14.00\" text-anchor=\"middle\" x=\"241.4124\" y=\"-441.7\">(None, 8)</text>\n",
       "</g>\n",
       "<!-- 139861381664272&#45;&gt;139861383239184 -->\n",
       "<g class=\"edge\" id=\"edge2\">\n",
       "<title>139861381664272-&gt;139861383239184</title>\n",
       "<path d=\"M149.7767,-519.8517C149.7767,-511.5937 149.7767,-502.2517 149.7767,-493.3864\" fill=\"none\" stroke=\"#000000\"/>\n",
       "<polygon fill=\"#000000\" points=\"153.2768,-493.292 149.7767,-483.292 146.2768,-493.292 153.2768,-493.292\" stroke=\"#000000\"/>\n",
       "</g>\n",
       "<!-- 139862500217424 -->\n",
       "<g class=\"node\" id=\"node4\">\n",
       "<title>139862500217424</title>\n",
       "<polygon fill=\"none\" points=\"31.4972,-346.9 31.4972,-396.5 268.0562,-396.5 268.0562,-346.9 31.4972,-346.9\" stroke=\"#000000\"/>\n",
       "<text fill=\"#000000\" font-family=\"Times,serif\" font-size=\"14.00\" text-anchor=\"middle\" x=\"83.6196\" y=\"-367.5\">dense_2: Dense</text>\n",
       "<polyline fill=\"none\" points=\"135.742,-346.9 135.742,-396.5 \" stroke=\"#000000\"/>\n",
       "<text fill=\"#000000\" font-family=\"Times,serif\" font-size=\"14.00\" text-anchor=\"middle\" x=\"163.5779\" y=\"-379.9\">input:</text>\n",
       "<polyline fill=\"none\" points=\"135.742,-371.7 191.4138,-371.7 \" stroke=\"#000000\"/>\n",
       "<text fill=\"#000000\" font-family=\"Times,serif\" font-size=\"14.00\" text-anchor=\"middle\" x=\"163.5779\" y=\"-355.1\">output:</text>\n",
       "<polyline fill=\"none\" points=\"191.4138,-346.9 191.4138,-396.5 \" stroke=\"#000000\"/>\n",
       "<text fill=\"#000000\" font-family=\"Times,serif\" font-size=\"14.00\" text-anchor=\"middle\" x=\"229.235\" y=\"-379.9\">(None, 8)</text>\n",
       "<polyline fill=\"none\" points=\"191.4138,-371.7 268.0562,-371.7 \" stroke=\"#000000\"/>\n",
       "<text fill=\"#000000\" font-family=\"Times,serif\" font-size=\"14.00\" text-anchor=\"middle\" x=\"229.735\" y=\"-355.1\">(None, 32)</text>\n",
       "</g>\n",
       "<!-- 139861383239184&#45;&gt;139862500217424 -->\n",
       "<g class=\"edge\" id=\"edge3\">\n",
       "<title>139861383239184-&gt;139862500217424</title>\n",
       "<path d=\"M149.7767,-433.2517C149.7767,-424.9937 149.7767,-415.6517 149.7767,-406.7864\" fill=\"none\" stroke=\"#000000\"/>\n",
       "<polygon fill=\"#000000\" points=\"153.2768,-406.692 149.7767,-396.692 146.2768,-406.692 153.2768,-406.692\" stroke=\"#000000\"/>\n",
       "</g>\n",
       "<!-- 139862500723472 -->\n",
       "<g class=\"node\" id=\"node5\">\n",
       "<title>139862500723472</title>\n",
       "<polygon fill=\"none\" points=\"19.8198,-260.3 19.8198,-309.9 279.7336,-309.9 279.7336,-260.3 19.8198,-260.3\" stroke=\"#000000\"/>\n",
       "<text fill=\"#000000\" font-family=\"Times,serif\" font-size=\"14.00\" text-anchor=\"middle\" x=\"83.6196\" y=\"-280.9\">dropout_2: Dropout</text>\n",
       "<polyline fill=\"none\" points=\"147.4194,-260.3 147.4194,-309.9 \" stroke=\"#000000\"/>\n",
       "<text fill=\"#000000\" font-family=\"Times,serif\" font-size=\"14.00\" text-anchor=\"middle\" x=\"175.2553\" y=\"-293.3\">input:</text>\n",
       "<polyline fill=\"none\" points=\"147.4194,-285.1 203.0912,-285.1 \" stroke=\"#000000\"/>\n",
       "<text fill=\"#000000\" font-family=\"Times,serif\" font-size=\"14.00\" text-anchor=\"middle\" x=\"175.2553\" y=\"-268.5\">output:</text>\n",
       "<polyline fill=\"none\" points=\"203.0912,-260.3 203.0912,-309.9 \" stroke=\"#000000\"/>\n",
       "<text fill=\"#000000\" font-family=\"Times,serif\" font-size=\"14.00\" text-anchor=\"middle\" x=\"241.4124\" y=\"-293.3\">(None, 32)</text>\n",
       "<polyline fill=\"none\" points=\"203.0912,-285.1 279.7336,-285.1 \" stroke=\"#000000\"/>\n",
       "<text fill=\"#000000\" font-family=\"Times,serif\" font-size=\"14.00\" text-anchor=\"middle\" x=\"241.4124\" y=\"-268.5\">(None, 32)</text>\n",
       "</g>\n",
       "<!-- 139862500217424&#45;&gt;139862500723472 -->\n",
       "<g class=\"edge\" id=\"edge4\">\n",
       "<title>139862500217424-&gt;139862500723472</title>\n",
       "<path d=\"M149.7767,-346.6517C149.7767,-338.3937 149.7767,-329.0517 149.7767,-320.1864\" fill=\"none\" stroke=\"#000000\"/>\n",
       "<polygon fill=\"#000000\" points=\"153.2768,-320.092 149.7767,-310.092 146.2768,-320.092 153.2768,-320.092\" stroke=\"#000000\"/>\n",
       "</g>\n",
       "<!-- 139862500723984 -->\n",
       "<g class=\"node\" id=\"node6\">\n",
       "<title>139862500723984</title>\n",
       "<polygon fill=\"none\" points=\"31.4972,-173.7 31.4972,-223.3 268.0562,-223.3 268.0562,-173.7 31.4972,-173.7\" stroke=\"#000000\"/>\n",
       "<text fill=\"#000000\" font-family=\"Times,serif\" font-size=\"14.00\" text-anchor=\"middle\" x=\"83.6196\" y=\"-194.3\">dense_3: Dense</text>\n",
       "<polyline fill=\"none\" points=\"135.742,-173.7 135.742,-223.3 \" stroke=\"#000000\"/>\n",
       "<text fill=\"#000000\" font-family=\"Times,serif\" font-size=\"14.00\" text-anchor=\"middle\" x=\"163.5779\" y=\"-206.7\">input:</text>\n",
       "<polyline fill=\"none\" points=\"135.742,-198.5 191.4138,-198.5 \" stroke=\"#000000\"/>\n",
       "<text fill=\"#000000\" font-family=\"Times,serif\" font-size=\"14.00\" text-anchor=\"middle\" x=\"163.5779\" y=\"-181.9\">output:</text>\n",
       "<polyline fill=\"none\" points=\"191.4138,-173.7 191.4138,-223.3 \" stroke=\"#000000\"/>\n",
       "<text fill=\"#000000\" font-family=\"Times,serif\" font-size=\"14.00\" text-anchor=\"middle\" x=\"229.735\" y=\"-206.7\">(None, 32)</text>\n",
       "<polyline fill=\"none\" points=\"191.4138,-198.5 268.0562,-198.5 \" stroke=\"#000000\"/>\n",
       "<text fill=\"#000000\" font-family=\"Times,serif\" font-size=\"14.00\" text-anchor=\"middle\" x=\"229.735\" y=\"-181.9\">(None, 16)</text>\n",
       "</g>\n",
       "<!-- 139862500723472&#45;&gt;139862500723984 -->\n",
       "<g class=\"edge\" id=\"edge5\">\n",
       "<title>139862500723472-&gt;139862500723984</title>\n",
       "<path d=\"M149.7767,-260.0517C149.7767,-251.7937 149.7767,-242.4517 149.7767,-233.5864\" fill=\"none\" stroke=\"#000000\"/>\n",
       "<polygon fill=\"#000000\" points=\"153.2768,-233.492 149.7767,-223.492 146.2768,-233.492 153.2768,-233.492\" stroke=\"#000000\"/>\n",
       "</g>\n",
       "<!-- 139861372284432 -->\n",
       "<g class=\"node\" id=\"node7\">\n",
       "<title>139861372284432</title>\n",
       "<polygon fill=\"none\" points=\"19.8198,-87.1 19.8198,-136.7 279.7336,-136.7 279.7336,-87.1 19.8198,-87.1\" stroke=\"#000000\"/>\n",
       "<text fill=\"#000000\" font-family=\"Times,serif\" font-size=\"14.00\" text-anchor=\"middle\" x=\"83.6196\" y=\"-107.7\">dropout_3: Dropout</text>\n",
       "<polyline fill=\"none\" points=\"147.4194,-87.1 147.4194,-136.7 \" stroke=\"#000000\"/>\n",
       "<text fill=\"#000000\" font-family=\"Times,serif\" font-size=\"14.00\" text-anchor=\"middle\" x=\"175.2553\" y=\"-120.1\">input:</text>\n",
       "<polyline fill=\"none\" points=\"147.4194,-111.9 203.0912,-111.9 \" stroke=\"#000000\"/>\n",
       "<text fill=\"#000000\" font-family=\"Times,serif\" font-size=\"14.00\" text-anchor=\"middle\" x=\"175.2553\" y=\"-95.3\">output:</text>\n",
       "<polyline fill=\"none\" points=\"203.0912,-87.1 203.0912,-136.7 \" stroke=\"#000000\"/>\n",
       "<text fill=\"#000000\" font-family=\"Times,serif\" font-size=\"14.00\" text-anchor=\"middle\" x=\"241.4124\" y=\"-120.1\">(None, 16)</text>\n",
       "<polyline fill=\"none\" points=\"203.0912,-111.9 279.7336,-111.9 \" stroke=\"#000000\"/>\n",
       "<text fill=\"#000000\" font-family=\"Times,serif\" font-size=\"14.00\" text-anchor=\"middle\" x=\"241.4124\" y=\"-95.3\">(None, 16)</text>\n",
       "</g>\n",
       "<!-- 139862500723984&#45;&gt;139861372284432 -->\n",
       "<g class=\"edge\" id=\"edge6\">\n",
       "<title>139862500723984-&gt;139861372284432</title>\n",
       "<path d=\"M149.7767,-173.4517C149.7767,-165.1937 149.7767,-155.8517 149.7767,-146.9864\" fill=\"none\" stroke=\"#000000\"/>\n",
       "<polygon fill=\"#000000\" points=\"153.2768,-146.892 149.7767,-136.892 146.2768,-146.892 153.2768,-146.892\" stroke=\"#000000\"/>\n",
       "</g>\n",
       "<!-- 139861372346768 -->\n",
       "<g class=\"node\" id=\"node8\">\n",
       "<title>139861372346768</title>\n",
       "<polygon fill=\"none\" points=\"31.4972,-.5 31.4972,-50.1 268.0562,-50.1 268.0562,-.5 31.4972,-.5\" stroke=\"#000000\"/>\n",
       "<text fill=\"#000000\" font-family=\"Times,serif\" font-size=\"14.00\" text-anchor=\"middle\" x=\"83.6196\" y=\"-21.1\">dense_4: Dense</text>\n",
       "<polyline fill=\"none\" points=\"135.742,-.5 135.742,-50.1 \" stroke=\"#000000\"/>\n",
       "<text fill=\"#000000\" font-family=\"Times,serif\" font-size=\"14.00\" text-anchor=\"middle\" x=\"163.5779\" y=\"-33.5\">input:</text>\n",
       "<polyline fill=\"none\" points=\"135.742,-25.3 191.4138,-25.3 \" stroke=\"#000000\"/>\n",
       "<text fill=\"#000000\" font-family=\"Times,serif\" font-size=\"14.00\" text-anchor=\"middle\" x=\"163.5779\" y=\"-8.7\">output:</text>\n",
       "<polyline fill=\"none\" points=\"191.4138,-.5 191.4138,-50.1 \" stroke=\"#000000\"/>\n",
       "<text fill=\"#000000\" font-family=\"Times,serif\" font-size=\"14.00\" text-anchor=\"middle\" x=\"229.735\" y=\"-33.5\">(None, 16)</text>\n",
       "<polyline fill=\"none\" points=\"191.4138,-25.3 268.0562,-25.3 \" stroke=\"#000000\"/>\n",
       "<text fill=\"#000000\" font-family=\"Times,serif\" font-size=\"14.00\" text-anchor=\"middle\" x=\"229.235\" y=\"-8.7\">(None, 1)</text>\n",
       "</g>\n",
       "<!-- 139861372284432&#45;&gt;139861372346768 -->\n",
       "<g class=\"edge\" id=\"edge7\">\n",
       "<title>139861372284432-&gt;139861372346768</title>\n",
       "<path d=\"M149.7767,-86.8517C149.7767,-78.5937 149.7767,-69.2517 149.7767,-60.3864\" fill=\"none\" stroke=\"#000000\"/>\n",
       "<polygon fill=\"#000000\" points=\"153.2768,-60.292 149.7767,-50.292 146.2768,-60.292 153.2768,-60.292\" stroke=\"#000000\"/>\n",
       "</g>\n",
       "</g>\n",
       "</svg>"
      ],
      "text/plain": [
       "<IPython.core.display.SVG object>"
      ]
     },
     "execution_count": 4,
     "metadata": {},
     "output_type": "execute_result"
    }
   ],
   "source": [
    "SVG(model_to_dot(model, show_shapes=True).create(prog='dot', format='svg'))"
   ]
  },
  {
   "cell_type": "code",
   "execution_count": 147,
   "metadata": {},
   "outputs": [],
   "source": [
    "# You need to derive the X data from HCDR, and deal with train/validation/test sets more appropriately \n",
    "X_train, X_test, y_valid, y_valid = train_test_split(X_train, train_labels, test_size=0.05, random_state=42)"
   ]
  },
  {
   "cell_type": "code",
   "execution_count": 148,
   "metadata": {},
   "outputs": [
    {
     "name": "stdout",
     "output_type": "stream",
     "text": [
      "CPU times: user 0 ns, sys: 0 ns, total: 0 ns\n",
      "Wall time: 11.2 µs\n"
     ]
    }
   ],
   "source": [
    "%time \n",
    "model.compile(loss='binary_crossentropy',\n",
    "              metrics=['accuracy'])"
   ]
  },
  {
   "cell_type": "code",
   "execution_count": 150,
   "metadata": {},
   "outputs": [
    {
     "name": "stdout",
     "output_type": "stream",
     "text": [
      "Train on 292135 samples, validate on 15376 samples\n",
      "Epoch 1/3\n",
      "292135/292135 [==============================] - 16s 56us/step - loss: 0.2638 - acc: 0.9193 - val_loss: 0.2569 - val_acc: 0.9184\n",
      "Epoch 2/3\n",
      "292135/292135 [==============================] - 15s 52us/step - loss: 0.2567 - acc: 0.9193 - val_loss: 0.2539 - val_acc: 0.9184\n",
      "Epoch 3/3\n",
      "292135/292135 [==============================] - 15s 52us/step - loss: 0.2557 - acc: 0.9193 - val_loss: 0.2546 - val_acc: 0.9184\n",
      "CPU times: user 1min 3s, sys: 11.7 s, total: 1min 15s\n",
      "Wall time: 47.5 s\n"
     ]
    }
   ],
   "source": [
    "%%time\n",
    "history = model.fit(X_train, y_train, \n",
    "                    validation_data=(X_valid, y_valid), \n",
    "                    epochs=3, \n",
    "                    batch_size=32, \n",
    "                    verbose=1)"
   ]
  },
  {
   "cell_type": "code",
   "execution_count": 152,
   "metadata": {},
   "outputs": [
    {
     "name": "stdout",
     "output_type": "stream",
     "text": [
      "CPU times: user 0 ns, sys: 0 ns, total: 0 ns\n",
      "Wall time: 14.1 µs\n",
      "15376/15376 [==============================] - 0s 29us/step\n"
     ]
    }
   ],
   "source": [
    "# You need to have that X_test, y_test avaliable before using it here\n",
    "%time \n",
    "preds_test = model.predict_classes(X_test, verbose=1)"
   ]
  },
  {
   "cell_type": "code",
   "execution_count": 155,
   "metadata": {},
   "outputs": [
    {
     "name": "stdout",
     "output_type": "stream",
     "text": [
      "DNN Accuracy is 91.84\n"
     ]
    }
   ],
   "source": [
    "print(\"DNN Accuracy is {0:.2f}\".format(accuracy_score(y_test, preds_test) * 100))"
   ]
  },
  {
   "cell_type": "code",
   "execution_count": null,
   "metadata": {},
   "outputs": [],
   "source": []
  }
 ],
 "metadata": {
  "kernelspec": {
   "display_name": "Python 3",
   "language": "python",
   "name": "python3"
  },
  "language_info": {
   "codemirror_mode": {
    "name": "ipython",
    "version": 3
   },
   "file_extension": ".py",
   "mimetype": "text/x-python",
   "name": "python",
   "nbconvert_exporter": "python",
   "pygments_lexer": "ipython3",
   "version": "3.7.4"
  },
  "toc": {
   "base_numbering": 1,
   "nav_menu": {},
   "number_sections": true,
   "sideBar": true,
   "skip_h1_title": false,
   "title_cell": "Table of Contents",
   "title_sidebar": "Contents",
   "toc_cell": false,
   "toc_position": {
    "height": "calc(100% - 180px)",
    "left": "10px",
    "top": "150px",
    "width": "329.631px"
   },
   "toc_section_display": true,
   "toc_window_display": true
  }
 },
 "nbformat": 4,
 "nbformat_minor": 4
}
